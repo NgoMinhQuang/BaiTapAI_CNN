{
  "nbformat": 4,
  "nbformat_minor": 0,
  "metadata": {
    "colab": {
      "name": "CNN_mnist.ipynb",
      "provenance": [],
      "authorship_tag": "ABX9TyPeagE5edc00JtxM1mE6ajm",
      "include_colab_link": true
    },
    "kernelspec": {
      "name": "python3",
      "display_name": "Python 3"
    },
    "language_info": {
      "name": "python"
    }
  },
  "cells": [
    {
      "cell_type": "markdown",
      "metadata": {
        "id": "view-in-github",
        "colab_type": "text"
      },
      "source": [
        "<a href=\"https://colab.research.google.com/github/NgoMinhQuang/BaiTapAI_CNN/blob/main/CNN_mnist.ipynb\" target=\"_parent\"><img src=\"https://colab.research.google.com/assets/colab-badge.svg\" alt=\"Open In Colab\"/></a>"
      ]
    },
    {
      "cell_type": "code",
      "execution_count": 1,
      "metadata": {
        "id": "uXKIIA10LNvC"
      },
      "outputs": [],
      "source": [
        "#import library\n",
        "from keras.layers.core.dropout import Dropout\n",
        "import numpy as np\n",
        "import tensorflow as tf\n",
        "from keras.utils import np_utils\n",
        "from keras.datasets import mnist\n",
        "from keras.models import Sequential\n",
        "from keras.layers import Dense, Dropout\n",
        "from tensorflow.keras.optimizers import RMSprop, SGD\n",
        "from tensorflow.keras.layers import Conv2D, MaxPooling2D, Flatten\n",
        "import matplotlib.pyplot as plt"
      ]
    },
    {
      "cell_type": "code",
      "source": [
        "#Chia dữ liệu\n",
        "(x_train, y_train),(x_test,y_test) = mnist.load_data()\n",
        "# for i in range(9):\n",
        "#   plt.subplot(330+1+i)\n",
        "#   plt.imshow(x_train[i])\n",
        "# plt.show()\n",
        "print('Kích thước x_train: ', x_train.shape)\n",
        "print('Kích thước y_train: ', y_train.shape)\n",
        "print('Kích thước x_test: ', x_test.shape)\n",
        "print('Kích thước y_test: ', y_test.shape)"
      ],
      "metadata": {
        "colab": {
          "base_uri": "https://localhost:8080/"
        },
        "id": "vTjo_JqDLpA2",
        "outputId": "4e7f9c18-f210-4c13-da71-7c98c1a205d4"
      },
      "execution_count": 2,
      "outputs": [
        {
          "output_type": "stream",
          "name": "stdout",
          "text": [
            "Downloading data from https://storage.googleapis.com/tensorflow/tf-keras-datasets/mnist.npz\n",
            "11493376/11490434 [==============================] - 0s 0us/step\n",
            "11501568/11490434 [==============================] - 0s 0us/step\n",
            "Kích thước x_train:  (60000, 28, 28)\n",
            "Kích thước y_train:  (60000,)\n",
            "Kích thước x_test:  (10000, 28, 28)\n",
            "Kích thước y_test:  (10000,)\n"
          ]
        }
      ]
    },
    {
      "cell_type": "code",
      "source": [
        "#Chuẩn hóa dữ liệu\n",
        "x_train = x_train.astype('float32')\n",
        "x_test = x_test.astype('float32')\n",
        "\n",
        "x_train = x_train/255\n",
        "x_test = x_test/255\n",
        "\n",
        "y_train = np_utils.to_categorical(y_train,100)\n",
        "y_test = np_utils.to_categorical(y_test,100)\n",
        "\n",
        "print('Kích thước x_train: ', x_train.shape)\n",
        "print('Kích thước y_train: ', y_train.shape)\n",
        "print('Kích thước x_test: ', x_test.shape)\n",
        "print('Kích thước y_test: ', y_test.shape)"
      ],
      "metadata": {
        "colab": {
          "base_uri": "https://localhost:8080/"
        },
        "id": "JAlWv75bLsmU",
        "outputId": "acba7576-d3bb-42ab-f6a4-4d57ebe01365"
      },
      "execution_count": 3,
      "outputs": [
        {
          "output_type": "stream",
          "name": "stdout",
          "text": [
            "Kích thước x_train:  (60000, 28, 28)\n",
            "Kích thước y_train:  (60000, 100)\n",
            "Kích thước x_test:  (10000, 28, 28)\n",
            "Kích thước y_test:  (10000, 100)\n"
          ]
        }
      ]
    },
    {
      "cell_type": "code",
      "source": [
        "#train model\n",
        "model = Sequential()\n",
        "model.add(Conv2D(32, (3, 3), activation='relu', kernel_initializer='he_uniform', input_shape=(28, 28, 1)))\n",
        "model.add(MaxPooling2D((2, 2)))\n",
        "model.add(Flatten())\n",
        "model.add(Dense(32, activation='relu', kernel_initializer='he_uniform'))\n",
        "model.add(Dense(100, activation='softmax'))\n",
        "model.summary()"
      ],
      "metadata": {
        "colab": {
          "base_uri": "https://localhost:8080/"
        },
        "id": "BADAt9NSLyLA",
        "outputId": "8b0873e5-941b-4628-86e9-7441d702f1ba"
      },
      "execution_count": 5,
      "outputs": [
        {
          "output_type": "stream",
          "name": "stdout",
          "text": [
            "Model: \"sequential_1\"\n",
            "_________________________________________________________________\n",
            " Layer (type)                Output Shape              Param #   \n",
            "=================================================================\n",
            " conv2d_1 (Conv2D)           (None, 26, 26, 32)        320       \n",
            "                                                                 \n",
            " max_pooling2d_1 (MaxPooling  (None, 13, 13, 32)       0         \n",
            " 2D)                                                             \n",
            "                                                                 \n",
            " flatten_1 (Flatten)         (None, 5408)              0         \n",
            "                                                                 \n",
            " dense_2 (Dense)             (None, 32)                173088    \n",
            "                                                                 \n",
            " dense_3 (Dense)             (None, 100)               3300      \n",
            "                                                                 \n",
            "=================================================================\n",
            "Total params: 176,708\n",
            "Trainable params: 176,708\n",
            "Non-trainable params: 0\n",
            "_________________________________________________________________\n"
          ]
        }
      ]
    },
    {
      "cell_type": "code",
      "source": [
        "# compile model\n",
        "opt = SGD(learning_rate=0.01, momentum=0.9)\n",
        "model.compile(optimizer=opt, loss='categorical_crossentropy', metrics=['accuracy'])\n",
        "from keras.callbacks import EarlyStopping\n",
        "history = model.fit(x_train, y_train, epochs=100, batch_size=32, validation_data=(x_test, y_test), \n",
        "                    verbose=1, callbacks=[EarlyStopping(monitor='val_loss',patience=50)])"
      ],
      "metadata": {
        "colab": {
          "base_uri": "https://localhost:8080/"
        },
        "id": "eb07uyF1L4RQ",
        "outputId": "f371be20-c43f-4f35-e0c1-b11484277911"
      },
      "execution_count": 6,
      "outputs": [
        {
          "output_type": "stream",
          "name": "stdout",
          "text": [
            "Epoch 1/100\n",
            "1875/1875 [==============================] - 24s 12ms/step - loss: 0.2011 - accuracy: 0.9401 - val_loss: 0.0757 - val_accuracy: 0.9764\n",
            "Epoch 2/100\n",
            "1875/1875 [==============================] - 21s 11ms/step - loss: 0.0660 - accuracy: 0.9797 - val_loss: 0.0656 - val_accuracy: 0.9804\n",
            "Epoch 3/100\n",
            "1875/1875 [==============================] - 21s 11ms/step - loss: 0.0460 - accuracy: 0.9863 - val_loss: 0.0603 - val_accuracy: 0.9797\n",
            "Epoch 4/100\n",
            "1875/1875 [==============================] - 21s 11ms/step - loss: 0.0351 - accuracy: 0.9898 - val_loss: 0.0436 - val_accuracy: 0.9856\n",
            "Epoch 5/100\n",
            "1875/1875 [==============================] - 21s 11ms/step - loss: 0.0275 - accuracy: 0.9915 - val_loss: 0.0493 - val_accuracy: 0.9841\n",
            "Epoch 6/100\n",
            "1875/1875 [==============================] - 21s 11ms/step - loss: 0.0211 - accuracy: 0.9934 - val_loss: 0.0436 - val_accuracy: 0.9861\n",
            "Epoch 7/100\n",
            "1875/1875 [==============================] - 21s 11ms/step - loss: 0.0164 - accuracy: 0.9952 - val_loss: 0.0451 - val_accuracy: 0.9853\n",
            "Epoch 8/100\n",
            "1875/1875 [==============================] - 21s 11ms/step - loss: 0.0120 - accuracy: 0.9968 - val_loss: 0.0424 - val_accuracy: 0.9861\n",
            "Epoch 9/100\n",
            "1875/1875 [==============================] - 21s 11ms/step - loss: 0.0098 - accuracy: 0.9972 - val_loss: 0.0410 - val_accuracy: 0.9871\n",
            "Epoch 10/100\n",
            "1875/1875 [==============================] - 21s 11ms/step - loss: 0.0070 - accuracy: 0.9984 - val_loss: 0.0447 - val_accuracy: 0.9871\n",
            "Epoch 11/100\n",
            "1875/1875 [==============================] - 21s 11ms/step - loss: 0.0052 - accuracy: 0.9988 - val_loss: 0.0503 - val_accuracy: 0.9852\n",
            "Epoch 12/100\n",
            "1875/1875 [==============================] - 21s 11ms/step - loss: 0.0035 - accuracy: 0.9993 - val_loss: 0.0482 - val_accuracy: 0.9862\n",
            "Epoch 13/100\n",
            "1875/1875 [==============================] - 21s 11ms/step - loss: 0.0028 - accuracy: 0.9995 - val_loss: 0.0458 - val_accuracy: 0.9870\n",
            "Epoch 14/100\n",
            "1875/1875 [==============================] - 21s 11ms/step - loss: 0.0017 - accuracy: 0.9998 - val_loss: 0.0470 - val_accuracy: 0.9868\n",
            "Epoch 15/100\n",
            "1875/1875 [==============================] - 21s 11ms/step - loss: 0.0012 - accuracy: 0.9999 - val_loss: 0.0484 - val_accuracy: 0.9866\n",
            "Epoch 16/100\n",
            "1875/1875 [==============================] - 21s 11ms/step - loss: 9.9856e-04 - accuracy: 0.9999 - val_loss: 0.0477 - val_accuracy: 0.9868\n",
            "Epoch 17/100\n",
            "1875/1875 [==============================] - 21s 11ms/step - loss: 7.0474e-04 - accuracy: 1.0000 - val_loss: 0.0470 - val_accuracy: 0.9872\n",
            "Epoch 18/100\n",
            "1875/1875 [==============================] - 22s 11ms/step - loss: 5.4345e-04 - accuracy: 1.0000 - val_loss: 0.0476 - val_accuracy: 0.9872\n",
            "Epoch 19/100\n",
            "1875/1875 [==============================] - 21s 11ms/step - loss: 4.9737e-04 - accuracy: 1.0000 - val_loss: 0.0485 - val_accuracy: 0.9874\n",
            "Epoch 20/100\n",
            "1875/1875 [==============================] - 22s 12ms/step - loss: 4.3467e-04 - accuracy: 1.0000 - val_loss: 0.0487 - val_accuracy: 0.9872\n",
            "Epoch 21/100\n",
            "1875/1875 [==============================] - 22s 12ms/step - loss: 4.0680e-04 - accuracy: 1.0000 - val_loss: 0.0499 - val_accuracy: 0.9871\n",
            "Epoch 22/100\n",
            "1875/1875 [==============================] - 22s 12ms/step - loss: 3.6140e-04 - accuracy: 1.0000 - val_loss: 0.0502 - val_accuracy: 0.9871\n",
            "Epoch 23/100\n",
            "1875/1875 [==============================] - 22s 12ms/step - loss: 3.2703e-04 - accuracy: 1.0000 - val_loss: 0.0504 - val_accuracy: 0.9872\n",
            "Epoch 24/100\n",
            "1875/1875 [==============================] - 22s 12ms/step - loss: 3.0543e-04 - accuracy: 1.0000 - val_loss: 0.0511 - val_accuracy: 0.9869\n",
            "Epoch 25/100\n",
            "1875/1875 [==============================] - 22s 12ms/step - loss: 2.8475e-04 - accuracy: 1.0000 - val_loss: 0.0511 - val_accuracy: 0.9869\n",
            "Epoch 26/100\n",
            "1875/1875 [==============================] - 22s 12ms/step - loss: 2.6634e-04 - accuracy: 1.0000 - val_loss: 0.0521 - val_accuracy: 0.9870\n",
            "Epoch 27/100\n",
            "1875/1875 [==============================] - 22s 12ms/step - loss: 2.5108e-04 - accuracy: 1.0000 - val_loss: 0.0522 - val_accuracy: 0.9869\n",
            "Epoch 28/100\n",
            "1875/1875 [==============================] - 22s 12ms/step - loss: 2.3785e-04 - accuracy: 1.0000 - val_loss: 0.0526 - val_accuracy: 0.9870\n",
            "Epoch 29/100\n",
            "1875/1875 [==============================] - 22s 12ms/step - loss: 2.2564e-04 - accuracy: 1.0000 - val_loss: 0.0531 - val_accuracy: 0.9871\n",
            "Epoch 30/100\n",
            "1875/1875 [==============================] - 22s 12ms/step - loss: 2.1300e-04 - accuracy: 1.0000 - val_loss: 0.0536 - val_accuracy: 0.9869\n",
            "Epoch 31/100\n",
            "1875/1875 [==============================] - 22s 12ms/step - loss: 2.0147e-04 - accuracy: 1.0000 - val_loss: 0.0530 - val_accuracy: 0.9867\n",
            "Epoch 32/100\n",
            "1875/1875 [==============================] - 22s 12ms/step - loss: 1.9351e-04 - accuracy: 1.0000 - val_loss: 0.0534 - val_accuracy: 0.9865\n",
            "Epoch 33/100\n",
            "1875/1875 [==============================] - 22s 12ms/step - loss: 1.8557e-04 - accuracy: 1.0000 - val_loss: 0.0546 - val_accuracy: 0.9868\n",
            "Epoch 34/100\n",
            "1875/1875 [==============================] - 22s 12ms/step - loss: 1.7741e-04 - accuracy: 1.0000 - val_loss: 0.0541 - val_accuracy: 0.9869\n",
            "Epoch 35/100\n",
            "1875/1875 [==============================] - 22s 12ms/step - loss: 1.6943e-04 - accuracy: 1.0000 - val_loss: 0.0546 - val_accuracy: 0.9866\n",
            "Epoch 36/100\n",
            "1875/1875 [==============================] - 22s 12ms/step - loss: 1.6365e-04 - accuracy: 1.0000 - val_loss: 0.0545 - val_accuracy: 0.9868\n",
            "Epoch 37/100\n",
            "1875/1875 [==============================] - 22s 12ms/step - loss: 1.5554e-04 - accuracy: 1.0000 - val_loss: 0.0548 - val_accuracy: 0.9868\n",
            "Epoch 38/100\n",
            "1875/1875 [==============================] - 22s 12ms/step - loss: 1.5143e-04 - accuracy: 1.0000 - val_loss: 0.0551 - val_accuracy: 0.9868\n",
            "Epoch 39/100\n",
            "1875/1875 [==============================] - 22s 12ms/step - loss: 1.4557e-04 - accuracy: 1.0000 - val_loss: 0.0550 - val_accuracy: 0.9869\n",
            "Epoch 40/100\n",
            "1875/1875 [==============================] - 22s 12ms/step - loss: 1.3934e-04 - accuracy: 1.0000 - val_loss: 0.0551 - val_accuracy: 0.9870\n",
            "Epoch 41/100\n",
            "1875/1875 [==============================] - 22s 12ms/step - loss: 1.3547e-04 - accuracy: 1.0000 - val_loss: 0.0557 - val_accuracy: 0.9869\n",
            "Epoch 42/100\n",
            "1875/1875 [==============================] - 22s 12ms/step - loss: 1.3099e-04 - accuracy: 1.0000 - val_loss: 0.0560 - val_accuracy: 0.9867\n",
            "Epoch 43/100\n",
            "1875/1875 [==============================] - 22s 12ms/step - loss: 1.2714e-04 - accuracy: 1.0000 - val_loss: 0.0564 - val_accuracy: 0.9868\n",
            "Epoch 44/100\n",
            "1875/1875 [==============================] - 22s 12ms/step - loss: 1.2248e-04 - accuracy: 1.0000 - val_loss: 0.0566 - val_accuracy: 0.9867\n",
            "Epoch 45/100\n",
            "1875/1875 [==============================] - 22s 12ms/step - loss: 1.1984e-04 - accuracy: 1.0000 - val_loss: 0.0565 - val_accuracy: 0.9867\n",
            "Epoch 46/100\n",
            "1875/1875 [==============================] - 22s 12ms/step - loss: 1.1574e-04 - accuracy: 1.0000 - val_loss: 0.0572 - val_accuracy: 0.9867\n",
            "Epoch 47/100\n",
            "1875/1875 [==============================] - 22s 12ms/step - loss: 1.1223e-04 - accuracy: 1.0000 - val_loss: 0.0568 - val_accuracy: 0.9867\n",
            "Epoch 48/100\n",
            "1875/1875 [==============================] - 22s 12ms/step - loss: 1.0926e-04 - accuracy: 1.0000 - val_loss: 0.0574 - val_accuracy: 0.9866\n",
            "Epoch 49/100\n",
            "1875/1875 [==============================] - 23s 12ms/step - loss: 1.0654e-04 - accuracy: 1.0000 - val_loss: 0.0571 - val_accuracy: 0.9867\n",
            "Epoch 50/100\n",
            "1875/1875 [==============================] - 22s 12ms/step - loss: 1.0368e-04 - accuracy: 1.0000 - val_loss: 0.0574 - val_accuracy: 0.9865\n",
            "Epoch 51/100\n",
            "1875/1875 [==============================] - 22s 12ms/step - loss: 1.0067e-04 - accuracy: 1.0000 - val_loss: 0.0578 - val_accuracy: 0.9868\n",
            "Epoch 52/100\n",
            "1875/1875 [==============================] - 22s 12ms/step - loss: 9.8082e-05 - accuracy: 1.0000 - val_loss: 0.0579 - val_accuracy: 0.9865\n",
            "Epoch 53/100\n",
            "1875/1875 [==============================] - 22s 12ms/step - loss: 9.5817e-05 - accuracy: 1.0000 - val_loss: 0.0581 - val_accuracy: 0.9868\n",
            "Epoch 54/100\n",
            "1875/1875 [==============================] - 22s 12ms/step - loss: 9.3438e-05 - accuracy: 1.0000 - val_loss: 0.0580 - val_accuracy: 0.9869\n",
            "Epoch 55/100\n",
            "1875/1875 [==============================] - 22s 12ms/step - loss: 9.1248e-05 - accuracy: 1.0000 - val_loss: 0.0582 - val_accuracy: 0.9868\n",
            "Epoch 56/100\n",
            "1875/1875 [==============================] - 22s 12ms/step - loss: 8.8881e-05 - accuracy: 1.0000 - val_loss: 0.0586 - val_accuracy: 0.9866\n",
            "Epoch 57/100\n",
            "1875/1875 [==============================] - 22s 12ms/step - loss: 8.7102e-05 - accuracy: 1.0000 - val_loss: 0.0587 - val_accuracy: 0.9867\n",
            "Epoch 58/100\n",
            "1875/1875 [==============================] - 22s 12ms/step - loss: 8.5049e-05 - accuracy: 1.0000 - val_loss: 0.0589 - val_accuracy: 0.9866\n",
            "Epoch 59/100\n",
            "1875/1875 [==============================] - 22s 12ms/step - loss: 8.3038e-05 - accuracy: 1.0000 - val_loss: 0.0589 - val_accuracy: 0.9867\n"
          ]
        }
      ]
    },
    {
      "cell_type": "code",
      "source": [
        "model.save('CNN_mnist.h5')"
      ],
      "metadata": {
        "id": "lxZpyc1ZRJgX"
      },
      "execution_count": 7,
      "outputs": []
    },
    {
      "cell_type": "code",
      "source": [
        "score = model.evaluate(x_test,y_test,verbose=0)\n",
        "print('Sai số kiểm tra là: ',score[0])\n",
        "print('Độ chính xác kiểm tra là: ',score[1])\n",
        "plt.plot(history.history['accuracy'])\n",
        "plt.plot(history.history['val_accuracy'])\n",
        "plt.ylabel('accuracy')\n",
        "plt.xlabel('epochs')\n",
        "plt.legend(['train','Validation'])\n",
        "plt.show()"
      ],
      "metadata": {
        "colab": {
          "base_uri": "https://localhost:8080/",
          "height": 315
        },
        "id": "lcdeJ673RLgp",
        "outputId": "a41c31a7-5994-4841-c70d-d1a715f890f2"
      },
      "execution_count": 8,
      "outputs": [
        {
          "output_type": "stream",
          "name": "stdout",
          "text": [
            "Sai số kiểm tra là:  0.05894218012690544\n",
            "Độ chính xác kiểm tra là:  0.9866999983787537\n"
          ]
        },
        {
          "output_type": "display_data",
          "data": {
            "text/plain": [
              "<Figure size 432x288 with 1 Axes>"
            ],
            "image/png": "[encoded data removed]"
          },
          "metadata": {
            "needs_background": "light"
          }
        }
      ]
    }
  ]
}