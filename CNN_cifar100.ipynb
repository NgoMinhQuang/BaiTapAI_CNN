{
  "nbformat": 4,
  "nbformat_minor": 0,
  "metadata": {
    "colab": {
      "name": "CNN_cifar100.ipynb",
      "provenance": [],
      "authorship_tag": "ABX9TyMFirpuC6R6hnLDw/HdsisV",
      "include_colab_link": true
    },
    "kernelspec": {
      "name": "python3",
      "display_name": "Python 3"
    },
    "language_info": {
      "name": "python"
    }
  },
  "cells": [
    {
      "cell_type": "markdown",
      "metadata": {
        "id": "view-in-github",
        "colab_type": "text"
      },
      "source": [
        "<a href=\"https://colab.research.google.com/github/NgoMinhQuang/BaiTapAI_CNN/blob/main/CNN_cifar100.ipynb\" target=\"_parent\"><img src=\"https://colab.research.google.com/assets/colab-badge.svg\" alt=\"Open In Colab\"/></a>"
      ]
    },
    {
      "cell_type": "code",
      "execution_count": 2,
      "metadata": {
        "id": "d7JfbCVfExpG"
      },
      "outputs": [],
      "source": [
        "#import library\n",
        "from keras.layers.core.dropout import Dropout\n",
        "import numpy as np\n",
        "import tensorflow as tf\n",
        "from keras.utils import np_utils\n",
        "from keras.datasets import cifar100\n",
        "from keras.models import Sequential\n",
        "from keras.layers import Dense, Dropout\n",
        "from tensorflow.keras.optimizers import RMSprop, SGD\n",
        "from tensorflow.keras.layers import Conv2D, MaxPooling2D, Flatten\n",
        "import matplotlib.pyplot as plt"
      ]
    },
    {
      "cell_type": "code",
      "source": [
        "#Chia dữ liệu\n",
        "(x_train, y_train),(x_test,y_test) = cifar100.load_data()\n",
        "\n",
        "print('Kích thước x_train: ', x_train.shape)\n",
        "print('Kích thước y_train: ', y_train.shape)\n",
        "print('Kích thước x_test: ', x_test.shape)\n",
        "print('Kích thước y_test: ', y_test.shape)"
      ],
      "metadata": {
        "colab": {
          "base_uri": "https://localhost:8080/"
        },
        "id": "O5ipfwdnFMTp",
        "outputId": "167b0759-f573-4f1f-bd76-5b66f0fbd901"
      },
      "execution_count": 3,
      "outputs": [
        {
          "output_type": "stream",
          "name": "stdout",
          "text": [
            "Downloading data from https://www.cs.toronto.edu/~kriz/cifar-100-python.tar.gz\n",
            "169009152/169001437 [==============================] - 2s 0us/step\n",
            "169017344/169001437 [==============================] - 2s 0us/step\n",
            "Kích thước x_train:  (50000, 32, 32, 3)\n",
            "Kích thước y_train:  (50000, 1)\n",
            "Kích thước x_test:  (10000, 32, 32, 3)\n",
            "Kích thước y_test:  (10000, 1)\n"
          ]
        }
      ]
    },
    {
      "cell_type": "code",
      "source": [
        "#Chuẩn hóa dữ liệu\n",
        "x_train = x_train.astype('float32')\n",
        "x_test = x_test.astype('float32')\n",
        "\n",
        "x_train = x_train/255\n",
        "x_test = x_test/255\n",
        "\n",
        "y_train = np_utils.to_categorical(y_train,100)\n",
        "y_test = np_utils.to_categorical(y_test,100)\n",
        "\n",
        "print('Kích thước x_train: ', x_train.shape)\n",
        "print('Kích thước y_train: ', y_train.shape)\n",
        "print('Kích thước x_test: ', x_test.shape)\n",
        "print('Kích thước y_test: ', y_test.shape)"
      ],
      "metadata": {
        "colab": {
          "base_uri": "https://localhost:8080/"
        },
        "id": "ueOSXB5kFeRm",
        "outputId": "1d4fc6f0-3e00-495c-9044-ee0aa8efa3fd"
      },
      "execution_count": 4,
      "outputs": [
        {
          "output_type": "stream",
          "name": "stdout",
          "text": [
            "Kích thước x_train:  (50000, 32, 32, 3)\n",
            "Kích thước y_train:  (50000, 100)\n",
            "Kích thước x_test:  (10000, 32, 32, 3)\n",
            "Kích thước y_test:  (10000, 100)\n"
          ]
        }
      ]
    },
    {
      "cell_type": "code",
      "source": [
        "#train model\n",
        "model = Sequential()\n",
        "model.add(Conv2D(32, (3, 3), activation='relu', kernel_initializer='he_uniform', input_shape=(32, 32, 3)))\n",
        "model.add(MaxPooling2D((2, 2)))\n",
        "model.add(Flatten())\n",
        "model.add(Dense(32, activation='relu', kernel_initializer='he_uniform'))\n",
        "model.add(Dense(100, activation='softmax'))\n",
        "model.summary()"
      ],
      "metadata": {
        "colab": {
          "base_uri": "https://localhost:8080/"
        },
        "id": "7l1n5cTfFlCr",
        "outputId": "de5e9ccf-81e5-45d5-8b8a-7924a9e4fe16"
      },
      "execution_count": 14,
      "outputs": [
        {
          "output_type": "stream",
          "name": "stdout",
          "text": [
            "Model: \"sequential_1\"\n",
            "_________________________________________________________________\n",
            " Layer (type)                Output Shape              Param #   \n",
            "=================================================================\n",
            " conv2d_1 (Conv2D)           (None, 30, 30, 32)        896       \n",
            "                                                                 \n",
            " max_pooling2d_1 (MaxPooling  (None, 15, 15, 32)       0         \n",
            " 2D)                                                             \n",
            "                                                                 \n",
            " flatten_1 (Flatten)         (None, 7200)              0         \n",
            "                                                                 \n",
            " dense_2 (Dense)             (None, 32)                230432    \n",
            "                                                                 \n",
            " dense_3 (Dense)             (None, 100)               3300      \n",
            "                                                                 \n",
            "=================================================================\n",
            "Total params: 234,628\n",
            "Trainable params: 234,628\n",
            "Non-trainable params: 0\n",
            "_________________________________________________________________\n"
          ]
        }
      ]
    },
    {
      "cell_type": "code",
      "source": [
        "# compile model\n",
        "opt = SGD(learning_rate=0.01, momentum=0.9)\n",
        "model.compile(optimizer=opt, loss='categorical_crossentropy', metrics=['accuracy'])\n",
        "from keras.callbacks import EarlyStopping\n",
        "history = model.fit(x_train, y_train, epochs=100, batch_size=32, validation_data=(x_test, y_test), \n",
        "                    verbose=1, callbacks=[EarlyStopping(monitor='val_loss',patience=50)])"
      ],
      "metadata": {
        "colab": {
          "base_uri": "https://localhost:8080/"
        },
        "id": "n_WHtEmCFtWP",
        "outputId": "d99ed9e7-3865-4dd6-e5f0-8b50c698596b"
      },
      "execution_count": 15,
      "outputs": [
        {
          "output_type": "stream",
          "name": "stdout",
          "text": [
            "Epoch 1/100\n",
            "1563/1563 [==============================] - 42s 26ms/step - loss: 4.6071 - accuracy: 0.0094 - val_loss: 4.6053 - val_accuracy: 0.0100\n",
            "Epoch 2/100\n",
            "1563/1563 [==============================] - 40s 26ms/step - loss: 4.6064 - accuracy: 0.0088 - val_loss: 4.6053 - val_accuracy: 0.0100\n",
            "Epoch 3/100\n",
            "1563/1563 [==============================] - 40s 26ms/step - loss: 4.6061 - accuracy: 0.0096 - val_loss: 4.6047 - val_accuracy: 0.0106\n",
            "Epoch 4/100\n",
            "1563/1563 [==============================] - 42s 27ms/step - loss: 4.5185 - accuracy: 0.0153 - val_loss: 4.4406 - val_accuracy: 0.0218\n",
            "Epoch 5/100\n",
            "1563/1563 [==============================] - 40s 26ms/step - loss: 4.2544 - accuracy: 0.0350 - val_loss: 4.1296 - val_accuracy: 0.0489\n",
            "Epoch 6/100\n",
            "1563/1563 [==============================] - 39s 25ms/step - loss: 3.9150 - accuracy: 0.0826 - val_loss: 3.7441 - val_accuracy: 0.1196\n",
            "Epoch 7/100\n",
            "1563/1563 [==============================] - 39s 25ms/step - loss: 3.6299 - accuracy: 0.1333 - val_loss: 3.5655 - val_accuracy: 0.1478\n",
            "Epoch 8/100\n",
            "1563/1563 [==============================] - 38s 24ms/step - loss: 3.4024 - accuracy: 0.1804 - val_loss: 3.4812 - val_accuracy: 0.1791\n",
            "Epoch 9/100\n",
            "1563/1563 [==============================] - 38s 24ms/step - loss: 3.2259 - accuracy: 0.2137 - val_loss: 3.2898 - val_accuracy: 0.2089\n",
            "Epoch 10/100\n",
            "1563/1563 [==============================] - 38s 25ms/step - loss: 3.0964 - accuracy: 0.2373 - val_loss: 3.1650 - val_accuracy: 0.2296\n",
            "Epoch 11/100\n",
            "1563/1563 [==============================] - 39s 25ms/step - loss: 2.9957 - accuracy: 0.2546 - val_loss: 3.1629 - val_accuracy: 0.2366\n",
            "Epoch 12/100\n",
            "1563/1563 [==============================] - 39s 25ms/step - loss: 2.9057 - accuracy: 0.2718 - val_loss: 3.1331 - val_accuracy: 0.2374\n",
            "Epoch 13/100\n",
            "1563/1563 [==============================] - 38s 25ms/step - loss: 2.8150 - accuracy: 0.2886 - val_loss: 3.1199 - val_accuracy: 0.2475\n",
            "Epoch 14/100\n",
            "1563/1563 [==============================] - 38s 25ms/step - loss: 2.7563 - accuracy: 0.2985 - val_loss: 3.1474 - val_accuracy: 0.2465\n",
            "Epoch 15/100\n",
            "1563/1563 [==============================] - 39s 25ms/step - loss: 2.6968 - accuracy: 0.3122 - val_loss: 3.1771 - val_accuracy: 0.2395\n",
            "Epoch 16/100\n",
            "1563/1563 [==============================] - 38s 25ms/step - loss: 2.6203 - accuracy: 0.3261 - val_loss: 3.1178 - val_accuracy: 0.2548\n",
            "Epoch 17/100\n",
            "1563/1563 [==============================] - 38s 24ms/step - loss: 2.5647 - accuracy: 0.3358 - val_loss: 3.2697 - val_accuracy: 0.2456\n",
            "Epoch 18/100\n",
            "1563/1563 [==============================] - 39s 25ms/step - loss: 2.5033 - accuracy: 0.3495 - val_loss: 3.2029 - val_accuracy: 0.2590\n",
            "Epoch 19/100\n",
            "1563/1563 [==============================] - 38s 24ms/step - loss: 2.4245 - accuracy: 0.3674 - val_loss: 3.3743 - val_accuracy: 0.2312\n",
            "Epoch 20/100\n",
            "1563/1563 [==============================] - 39s 25ms/step - loss: 2.3696 - accuracy: 0.3808 - val_loss: 3.3164 - val_accuracy: 0.2580\n",
            "Epoch 21/100\n",
            "1563/1563 [==============================] - 39s 25ms/step - loss: 2.3239 - accuracy: 0.3869 - val_loss: 3.3657 - val_accuracy: 0.2496\n",
            "Epoch 22/100\n",
            "1563/1563 [==============================] - 38s 24ms/step - loss: 2.2756 - accuracy: 0.3963 - val_loss: 3.3609 - val_accuracy: 0.2478\n",
            "Epoch 23/100\n",
            "1563/1563 [==============================] - 39s 25ms/step - loss: 2.2188 - accuracy: 0.4112 - val_loss: 3.5420 - val_accuracy: 0.2344\n",
            "Epoch 24/100\n",
            "1563/1563 [==============================] - 39s 25ms/step - loss: 2.1791 - accuracy: 0.4186 - val_loss: 3.5921 - val_accuracy: 0.2442\n",
            "Epoch 25/100\n",
            "1563/1563 [==============================] - 38s 24ms/step - loss: 2.1174 - accuracy: 0.4293 - val_loss: 3.6183 - val_accuracy: 0.2584\n",
            "Epoch 26/100\n",
            "1563/1563 [==============================] - 38s 24ms/step - loss: 2.0759 - accuracy: 0.4403 - val_loss: 3.7433 - val_accuracy: 0.2334\n",
            "Epoch 27/100\n",
            "1563/1563 [==============================] - 38s 24ms/step - loss: 2.0392 - accuracy: 0.4473 - val_loss: 3.7102 - val_accuracy: 0.2478\n",
            "Epoch 28/100\n",
            "1563/1563 [==============================] - 37s 24ms/step - loss: 1.9902 - accuracy: 0.4571 - val_loss: 3.6888 - val_accuracy: 0.2404\n",
            "Epoch 29/100\n",
            "1563/1563 [==============================] - 37s 24ms/step - loss: 1.9654 - accuracy: 0.4620 - val_loss: 3.9235 - val_accuracy: 0.2361\n",
            "Epoch 30/100\n",
            "1563/1563 [==============================] - 37s 24ms/step - loss: 1.9244 - accuracy: 0.4720 - val_loss: 3.9393 - val_accuracy: 0.2350\n",
            "Epoch 31/100\n",
            "1563/1563 [==============================] - 37s 24ms/step - loss: 1.8831 - accuracy: 0.4781 - val_loss: 3.9723 - val_accuracy: 0.2204\n",
            "Epoch 32/100\n",
            "1563/1563 [==============================] - 38s 24ms/step - loss: 1.8463 - accuracy: 0.4896 - val_loss: 4.1917 - val_accuracy: 0.2262\n",
            "Epoch 33/100\n",
            "1563/1563 [==============================] - 38s 24ms/step - loss: 1.8075 - accuracy: 0.4978 - val_loss: 4.1681 - val_accuracy: 0.2273\n",
            "Epoch 34/100\n",
            "1563/1563 [==============================] - 38s 24ms/step - loss: 1.7724 - accuracy: 0.5093 - val_loss: 4.2647 - val_accuracy: 0.2296\n",
            "Epoch 35/100\n",
            "1563/1563 [==============================] - 38s 24ms/step - loss: 1.7335 - accuracy: 0.5165 - val_loss: 4.2418 - val_accuracy: 0.2187\n",
            "Epoch 36/100\n",
            "1563/1563 [==============================] - 38s 24ms/step - loss: 1.7096 - accuracy: 0.5222 - val_loss: 4.3588 - val_accuracy: 0.2270\n",
            "Epoch 37/100\n",
            "1563/1563 [==============================] - 38s 24ms/step - loss: 1.6672 - accuracy: 0.5321 - val_loss: 4.5713 - val_accuracy: 0.2283\n",
            "Epoch 38/100\n",
            "1563/1563 [==============================] - 38s 25ms/step - loss: 1.6333 - accuracy: 0.5378 - val_loss: 4.5488 - val_accuracy: 0.2168\n",
            "Epoch 39/100\n",
            "1563/1563 [==============================] - 39s 25ms/step - loss: 1.6051 - accuracy: 0.5455 - val_loss: 4.8194 - val_accuracy: 0.2210\n",
            "Epoch 40/100\n",
            "1563/1563 [==============================] - 39s 25ms/step - loss: 1.5555 - accuracy: 0.5579 - val_loss: 4.8542 - val_accuracy: 0.2293\n",
            "Epoch 41/100\n",
            "1563/1563 [==============================] - 39s 25ms/step - loss: 1.5416 - accuracy: 0.5620 - val_loss: 4.9293 - val_accuracy: 0.2119\n",
            "Epoch 42/100\n",
            "1563/1563 [==============================] - 38s 25ms/step - loss: 1.5153 - accuracy: 0.5676 - val_loss: 5.0719 - val_accuracy: 0.2188\n",
            "Epoch 43/100\n",
            "1563/1563 [==============================] - 38s 25ms/step - loss: 1.4826 - accuracy: 0.5751 - val_loss: 5.1803 - val_accuracy: 0.2189\n",
            "Epoch 44/100\n",
            "1563/1563 [==============================] - 38s 24ms/step - loss: 1.4737 - accuracy: 0.5766 - val_loss: 5.3988 - val_accuracy: 0.2086\n",
            "Epoch 45/100\n",
            "1563/1563 [==============================] - 38s 25ms/step - loss: 1.4238 - accuracy: 0.5873 - val_loss: 5.4106 - val_accuracy: 0.2250\n",
            "Epoch 46/100\n",
            "1563/1563 [==============================] - 39s 25ms/step - loss: 1.3997 - accuracy: 0.5957 - val_loss: 5.4330 - val_accuracy: 0.2101\n",
            "Epoch 47/100\n",
            "1563/1563 [==============================] - 38s 25ms/step - loss: 1.3915 - accuracy: 0.5974 - val_loss: 5.6750 - val_accuracy: 0.2184\n",
            "Epoch 48/100\n",
            "1563/1563 [==============================] - 39s 25ms/step - loss: 1.3818 - accuracy: 0.5995 - val_loss: 5.5414 - val_accuracy: 0.2119\n",
            "Epoch 49/100\n",
            "1563/1563 [==============================] - 40s 25ms/step - loss: 1.3538 - accuracy: 0.6066 - val_loss: 6.0107 - val_accuracy: 0.2090\n",
            "Epoch 50/100\n",
            "1563/1563 [==============================] - 38s 24ms/step - loss: 1.3276 - accuracy: 0.6143 - val_loss: 6.0364 - val_accuracy: 0.2125\n",
            "Epoch 51/100\n",
            "1563/1563 [==============================] - 39s 25ms/step - loss: 1.3342 - accuracy: 0.6117 - val_loss: 6.1290 - val_accuracy: 0.1982\n",
            "Epoch 52/100\n",
            "1563/1563 [==============================] - 38s 25ms/step - loss: 1.3074 - accuracy: 0.6195 - val_loss: 6.0633 - val_accuracy: 0.2092\n",
            "Epoch 53/100\n",
            "1563/1563 [==============================] - 38s 24ms/step - loss: 1.2966 - accuracy: 0.6221 - val_loss: 6.1531 - val_accuracy: 0.1978\n",
            "Epoch 54/100\n",
            "1563/1563 [==============================] - 38s 24ms/step - loss: 1.2840 - accuracy: 0.6255 - val_loss: 6.6194 - val_accuracy: 0.1975\n",
            "Epoch 55/100\n",
            "1563/1563 [==============================] - 41s 26ms/step - loss: 1.2657 - accuracy: 0.6319 - val_loss: 6.4116 - val_accuracy: 0.2086\n",
            "Epoch 56/100\n",
            "1563/1563 [==============================] - 40s 26ms/step - loss: 1.2641 - accuracy: 0.6340 - val_loss: 6.5475 - val_accuracy: 0.2097\n",
            "Epoch 57/100\n",
            "1563/1563 [==============================] - 41s 26ms/step - loss: 1.2412 - accuracy: 0.6372 - val_loss: 6.8424 - val_accuracy: 0.1970\n",
            "Epoch 58/100\n",
            "1563/1563 [==============================] - 39s 25ms/step - loss: 1.2144 - accuracy: 0.6429 - val_loss: 7.0097 - val_accuracy: 0.1967\n",
            "Epoch 59/100\n",
            "1563/1563 [==============================] - 38s 24ms/step - loss: 1.1941 - accuracy: 0.6497 - val_loss: 7.1644 - val_accuracy: 0.1979\n",
            "Epoch 60/100\n",
            "1563/1563 [==============================] - 37s 24ms/step - loss: 1.1968 - accuracy: 0.6512 - val_loss: 7.0883 - val_accuracy: 0.1836\n",
            "Epoch 61/100\n",
            "1563/1563 [==============================] - 38s 24ms/step - loss: 1.1730 - accuracy: 0.6554 - val_loss: 7.2712 - val_accuracy: 0.1959\n",
            "Epoch 62/100\n",
            "1563/1563 [==============================] - 38s 24ms/step - loss: 1.1823 - accuracy: 0.6526 - val_loss: 7.3167 - val_accuracy: 0.2029\n",
            "Epoch 63/100\n",
            "1563/1563 [==============================] - 38s 24ms/step - loss: 1.1819 - accuracy: 0.6544 - val_loss: 7.5683 - val_accuracy: 0.1982\n",
            "Epoch 64/100\n",
            "1563/1563 [==============================] - 38s 25ms/step - loss: 1.1974 - accuracy: 0.6494 - val_loss: 7.6738 - val_accuracy: 0.1925\n",
            "Epoch 65/100\n",
            "1563/1563 [==============================] - 39s 25ms/step - loss: 1.1753 - accuracy: 0.6580 - val_loss: 7.7109 - val_accuracy: 0.1899\n",
            "Epoch 66/100\n",
            "1563/1563 [==============================] - 39s 25ms/step - loss: 1.1556 - accuracy: 0.6626 - val_loss: 7.8249 - val_accuracy: 0.1962\n"
          ]
        }
      ]
    },
    {
      "cell_type": "code",
      "source": [
        "model.save('CNN_cifar100.h5')"
      ],
      "metadata": {
        "id": "3FaiydDYFyFi"
      },
      "execution_count": 16,
      "outputs": []
    },
    {
      "cell_type": "code",
      "source": [
        "score = model.evaluate(x_test,y_test,verbose=0)\n",
        "print('Sai số kiểm tra là: ',score[0])\n",
        "print('Độ chính xác kiểm tra là: ',score[1])\n",
        "plt.plot(history.history['accuracy'])\n",
        "plt.plot(history.history['val_accuracy'])\n",
        "plt.ylabel('accuracy')\n",
        "plt.xlabel('epochs')\n",
        "plt.legend(['train','Validation'])\n",
        "plt.show()"
      ],
      "metadata": {
        "colab": {
          "base_uri": "https://localhost:8080/",
          "height": 315
        },
        "id": "FSQjyRmXU7OU",
        "outputId": "4a5f6e11-42b8-4f5c-f097-a4b641852dc8"
      },
      "execution_count": 17,
      "outputs": [
        {
          "output_type": "stream",
          "name": "stdout",
          "text": [
            "Sai số kiểm tra là:  7.824943542480469\n",
            "Độ chính xác kiểm tra là:  0.19619999825954437\n"
          ]
        },
        {
          "output_type": "display_data",
          "data": {
            "text/plain": [
              "<Figure size 432x288 with 1 Axes>"
            ],
            "image/png": "[encoded data removed]"
          },
          "metadata": {
            "needs_background": "light"
          }
        }
      ]
    }
  ]
}