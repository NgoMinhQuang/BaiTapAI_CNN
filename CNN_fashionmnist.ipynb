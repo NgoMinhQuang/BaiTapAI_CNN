{
  "nbformat": 4,
  "nbformat_minor": 0,
  "metadata": {
    "colab": {
      "name": "CNN_fashionmnist.ipynb",
      "provenance": [],
      "authorship_tag": "ABX9TyNVlVz3b+/cnYldsxqc63p/",
      "include_colab_link": true
    },
    "kernelspec": {
      "name": "python3",
      "display_name": "Python 3"
    },
    "language_info": {
      "name": "python"
    }
  },
  "cells": [
    {
      "cell_type": "markdown",
      "metadata": {
        "id": "view-in-github",
        "colab_type": "text"
      },
      "source": [
        "<a href=\"https://colab.research.google.com/github/NgoMinhQuang/BaiTapAI_CNN/blob/main/CNN_fashionmnist.ipynb\" target=\"_parent\"><img src=\"https://colab.research.google.com/assets/colab-badge.svg\" alt=\"Open In Colab\"/></a>"
      ]
    },
    {
      "cell_type": "code",
      "execution_count": 4,
      "metadata": {
        "id": "46y2aXn5MLrL"
      },
      "outputs": [],
      "source": [
        "#import library\n",
        "from keras.layers.core.dropout import Dropout\n",
        "import numpy as np\n",
        "import tensorflow as tf\n",
        "from keras.utils import np_utils\n",
        "from keras.datasets import fashion_mnist\n",
        "from keras.models import Sequential\n",
        "from keras.layers import Dense, Dropout\n",
        "from tensorflow.keras.optimizers import RMSprop, SGD\n",
        "from tensorflow.keras.layers import Conv2D, MaxPooling2D, Flatten\n",
        "import matplotlib.pyplot as plt"
      ]
    },
    {
      "cell_type": "code",
      "source": [
        "#Chia dữ liệu\n",
        "(x_train, y_train),(x_test,y_test) = fashion_mnist.load_data()\n",
        "# for i in range(9):\n",
        "#   plt.subplot(330+1+i)\n",
        "#   plt.imshow(x_train[i])\n",
        "# plt.show()\n",
        "print('Kích thước x_train: ', x_train.shape)\n",
        "print('Kích thước y_train: ', y_train.shape)\n",
        "print('Kích thước x_test: ', x_test.shape)\n",
        "print('Kích thước y_test: ', y_test.shape)"
      ],
      "metadata": {
        "colab": {
          "base_uri": "https://localhost:8080/"
        },
        "id": "fc5_H5r-MasN",
        "outputId": "66feff7b-02e7-438c-9ec2-bd0175bbfca3"
      },
      "execution_count": 6,
      "outputs": [
        {
          "output_type": "stream",
          "name": "stdout",
          "text": [
            "Downloading data from https://storage.googleapis.com/tensorflow/tf-keras-datasets/train-labels-idx1-ubyte.gz\n",
            "32768/29515 [=================================] - 0s 0us/step\n",
            "40960/29515 [=========================================] - 0s 0us/step\n",
            "Downloading data from https://storage.googleapis.com/tensorflow/tf-keras-datasets/train-images-idx3-ubyte.gz\n",
            "26427392/26421880 [==============================] - 0s 0us/step\n",
            "26435584/26421880 [==============================] - 0s 0us/step\n",
            "Downloading data from https://storage.googleapis.com/tensorflow/tf-keras-datasets/t10k-labels-idx1-ubyte.gz\n",
            "16384/5148 [===============================================================================================] - 0s 0us/step\n",
            "Downloading data from https://storage.googleapis.com/tensorflow/tf-keras-datasets/t10k-images-idx3-ubyte.gz\n",
            "4423680/4422102 [==============================] - 0s 0us/step\n",
            "4431872/4422102 [==============================] - 0s 0us/step\n",
            "Kích thước x_train:  (60000, 28, 28)\n",
            "Kích thước y_train:  (60000,)\n",
            "Kích thước x_test:  (10000, 28, 28)\n",
            "Kích thước y_test:  (10000,)\n"
          ]
        }
      ]
    },
    {
      "cell_type": "code",
      "source": [
        "#Chuẩn hóa dữ liệu\n",
        "x_train = x_train.astype('float32')\n",
        "x_test = x_test.astype('float32')\n",
        "\n",
        "x_train = x_train/255\n",
        "x_test = x_test/255\n",
        "\n",
        "y_train = np_utils.to_categorical(y_train,100)\n",
        "y_test = np_utils.to_categorical(y_test,100)\n",
        "\n",
        "print('Kích thước x_train: ', x_train.shape)\n",
        "print('Kích thước y_train: ', y_train.shape)\n",
        "print('Kích thước x_test: ', x_test.shape)\n",
        "print('Kích thước y_test: ', y_test.shape)"
      ],
      "metadata": {
        "colab": {
          "base_uri": "https://localhost:8080/"
        },
        "id": "ILOupOicM6tC",
        "outputId": "665c78a4-c5e6-4c88-c998-eaa83accd8bc"
      },
      "execution_count": 7,
      "outputs": [
        {
          "output_type": "stream",
          "name": "stdout",
          "text": [
            "Kích thước x_train:  (60000, 28, 28)\n",
            "Kích thước y_train:  (60000, 100)\n",
            "Kích thước x_test:  (10000, 28, 28)\n",
            "Kích thước y_test:  (10000, 100)\n"
          ]
        }
      ]
    },
    {
      "cell_type": "code",
      "source": [
        "#train model\n",
        "model = Sequential()\n",
        "model.add(Conv2D(32, (3, 3), activation='relu', kernel_initializer='he_uniform', input_shape=(28, 28, 1)))\n",
        "model.add(MaxPooling2D((2, 2)))\n",
        "model.add(Flatten())\n",
        "model.add(Dense(32, activation='relu', kernel_initializer='he_uniform'))\n",
        "model.add(Dense(100, activation='softmax'))\n",
        "model.summary()"
      ],
      "metadata": {
        "colab": {
          "base_uri": "https://localhost:8080/"
        },
        "id": "OuVlNRmBNIKz",
        "outputId": "e3223d4c-bbc5-44a8-ec71-76000e2cb629"
      },
      "execution_count": 9,
      "outputs": [
        {
          "output_type": "stream",
          "name": "stdout",
          "text": [
            "Model: \"sequential\"\n",
            "_________________________________________________________________\n",
            " Layer (type)                Output Shape              Param #   \n",
            "=================================================================\n",
            " conv2d (Conv2D)             (None, 26, 26, 32)        320       \n",
            "                                                                 \n",
            " max_pooling2d (MaxPooling2D  (None, 13, 13, 32)       0         \n",
            " )                                                               \n",
            "                                                                 \n",
            " flatten (Flatten)           (None, 5408)              0         \n",
            "                                                                 \n",
            " dense (Dense)               (None, 32)                173088    \n",
            "                                                                 \n",
            " dense_1 (Dense)             (None, 100)               3300      \n",
            "                                                                 \n",
            "=================================================================\n",
            "Total params: 176,708\n",
            "Trainable params: 176,708\n",
            "Non-trainable params: 0\n",
            "_________________________________________________________________\n"
          ]
        }
      ]
    },
    {
      "cell_type": "code",
      "source": [
        "# compile model\n",
        "opt = SGD(learning_rate=0.01, momentum=0.9)\n",
        "model.compile(optimizer=opt, loss='categorical_crossentropy', metrics=['accuracy'])\n",
        "from keras.callbacks import EarlyStopping\n",
        "history = model.fit(x_train, y_train, epochs=100, batch_size=32, validation_data=(x_test, y_test), \n",
        "                    verbose=1, callbacks=[EarlyStopping(monitor='val_loss',patience=50)])"
      ],
      "metadata": {
        "colab": {
          "base_uri": "https://localhost:8080/"
        },
        "id": "H461SNRINNtj",
        "outputId": "b461a6ed-bc89-4f40-a875-740b16e86ccb"
      },
      "execution_count": 10,
      "outputs": [
        {
          "output_type": "stream",
          "name": "stdout",
          "text": [
            "Epoch 1/100\n",
            "1875/1875 [==============================] - 32s 16ms/step - loss: 0.4557 - accuracy: 0.8390 - val_loss: 0.3505 - val_accuracy: 0.8755\n",
            "Epoch 2/100\n",
            "1875/1875 [==============================] - 31s 17ms/step - loss: 0.3048 - accuracy: 0.8892 - val_loss: 0.3325 - val_accuracy: 0.8818\n",
            "Epoch 3/100\n",
            "1875/1875 [==============================] - 30s 16ms/step - loss: 0.2649 - accuracy: 0.9034 - val_loss: 0.2990 - val_accuracy: 0.8931\n",
            "Epoch 4/100\n",
            "1875/1875 [==============================] - 31s 16ms/step - loss: 0.2400 - accuracy: 0.9122 - val_loss: 0.2817 - val_accuracy: 0.8986\n",
            "Epoch 5/100\n",
            "1875/1875 [==============================] - 31s 16ms/step - loss: 0.2197 - accuracy: 0.9193 - val_loss: 0.2827 - val_accuracy: 0.8988\n",
            "Epoch 6/100\n",
            "1875/1875 [==============================] - 31s 16ms/step - loss: 0.2042 - accuracy: 0.9251 - val_loss: 0.2742 - val_accuracy: 0.9039\n",
            "Epoch 7/100\n",
            "1875/1875 [==============================] - 31s 16ms/step - loss: 0.1893 - accuracy: 0.9307 - val_loss: 0.2783 - val_accuracy: 0.8999\n",
            "Epoch 8/100\n",
            "1875/1875 [==============================] - 31s 16ms/step - loss: 0.1772 - accuracy: 0.9341 - val_loss: 0.2905 - val_accuracy: 0.8995\n",
            "Epoch 9/100\n",
            "1875/1875 [==============================] - 30s 16ms/step - loss: 0.1657 - accuracy: 0.9388 - val_loss: 0.2822 - val_accuracy: 0.9018\n",
            "Epoch 10/100\n",
            "1875/1875 [==============================] - 31s 16ms/step - loss: 0.1564 - accuracy: 0.9419 - val_loss: 0.2852 - val_accuracy: 0.9036\n",
            "Epoch 11/100\n",
            "1875/1875 [==============================] - 30s 16ms/step - loss: 0.1474 - accuracy: 0.9454 - val_loss: 0.2894 - val_accuracy: 0.9051\n",
            "Epoch 12/100\n",
            "1875/1875 [==============================] - 30s 16ms/step - loss: 0.1373 - accuracy: 0.9490 - val_loss: 0.3111 - val_accuracy: 0.9039\n",
            "Epoch 13/100\n",
            "1875/1875 [==============================] - 30s 16ms/step - loss: 0.1292 - accuracy: 0.9528 - val_loss: 0.3104 - val_accuracy: 0.9021\n",
            "Epoch 14/100\n",
            "1875/1875 [==============================] - 30s 16ms/step - loss: 0.1215 - accuracy: 0.9546 - val_loss: 0.3086 - val_accuracy: 0.9048\n",
            "Epoch 15/100\n",
            "1875/1875 [==============================] - 30s 16ms/step - loss: 0.1138 - accuracy: 0.9581 - val_loss: 0.3465 - val_accuracy: 0.8981\n",
            "Epoch 16/100\n",
            "1875/1875 [==============================] - 30s 16ms/step - loss: 0.1074 - accuracy: 0.9603 - val_loss: 0.3377 - val_accuracy: 0.9060\n",
            "Epoch 17/100\n",
            "1875/1875 [==============================] - 30s 16ms/step - loss: 0.0995 - accuracy: 0.9639 - val_loss: 0.3587 - val_accuracy: 0.9021\n",
            "Epoch 18/100\n",
            "1875/1875 [==============================] - 30s 16ms/step - loss: 0.0955 - accuracy: 0.9645 - val_loss: 0.3750 - val_accuracy: 0.8949\n",
            "Epoch 19/100\n",
            "1875/1875 [==============================] - 31s 16ms/step - loss: 0.0903 - accuracy: 0.9665 - val_loss: 0.3817 - val_accuracy: 0.8976\n",
            "Epoch 20/100\n",
            "1875/1875 [==============================] - 30s 16ms/step - loss: 0.0866 - accuracy: 0.9675 - val_loss: 0.3831 - val_accuracy: 0.8955\n",
            "Epoch 21/100\n",
            "1875/1875 [==============================] - 30s 16ms/step - loss: 0.0799 - accuracy: 0.9708 - val_loss: 0.4050 - val_accuracy: 0.8958\n",
            "Epoch 22/100\n",
            "1875/1875 [==============================] - 30s 16ms/step - loss: 0.0738 - accuracy: 0.9721 - val_loss: 0.3872 - val_accuracy: 0.9035\n",
            "Epoch 23/100\n",
            "1875/1875 [==============================] - 30s 16ms/step - loss: 0.0694 - accuracy: 0.9748 - val_loss: 0.4069 - val_accuracy: 0.9028\n",
            "Epoch 24/100\n",
            "1875/1875 [==============================] - 30s 16ms/step - loss: 0.0655 - accuracy: 0.9760 - val_loss: 0.4045 - val_accuracy: 0.9042\n",
            "Epoch 25/100\n",
            "1875/1875 [==============================] - 30s 16ms/step - loss: 0.0632 - accuracy: 0.9764 - val_loss: 0.4486 - val_accuracy: 0.8988\n",
            "Epoch 26/100\n",
            "1875/1875 [==============================] - 30s 16ms/step - loss: 0.0576 - accuracy: 0.9790 - val_loss: 0.4544 - val_accuracy: 0.9007\n",
            "Epoch 27/100\n",
            "1875/1875 [==============================] - 31s 16ms/step - loss: 0.0574 - accuracy: 0.9790 - val_loss: 0.4648 - val_accuracy: 0.9061\n",
            "Epoch 28/100\n",
            "1875/1875 [==============================] - 31s 16ms/step - loss: 0.0497 - accuracy: 0.9817 - val_loss: 0.5145 - val_accuracy: 0.8931\n",
            "Epoch 29/100\n",
            "1875/1875 [==============================] - 31s 17ms/step - loss: 0.0518 - accuracy: 0.9811 - val_loss: 0.4888 - val_accuracy: 0.9037\n",
            "Epoch 30/100\n",
            "1875/1875 [==============================] - 31s 16ms/step - loss: 0.0453 - accuracy: 0.9832 - val_loss: 0.5252 - val_accuracy: 0.9029\n",
            "Epoch 31/100\n",
            "1875/1875 [==============================] - 31s 17ms/step - loss: 0.0422 - accuracy: 0.9847 - val_loss: 0.5817 - val_accuracy: 0.8874\n",
            "Epoch 32/100\n",
            "1875/1875 [==============================] - 31s 17ms/step - loss: 0.0389 - accuracy: 0.9857 - val_loss: 0.5227 - val_accuracy: 0.9020\n",
            "Epoch 33/100\n",
            "1875/1875 [==============================] - 31s 17ms/step - loss: 0.0390 - accuracy: 0.9853 - val_loss: 0.5390 - val_accuracy: 0.8998\n",
            "Epoch 34/100\n",
            "1875/1875 [==============================] - 31s 16ms/step - loss: 0.0428 - accuracy: 0.9844 - val_loss: 0.5599 - val_accuracy: 0.8985\n",
            "Epoch 35/100\n",
            "1875/1875 [==============================] - 31s 17ms/step - loss: 0.0381 - accuracy: 0.9858 - val_loss: 0.6345 - val_accuracy: 0.8898\n",
            "Epoch 36/100\n",
            "1875/1875 [==============================] - 31s 17ms/step - loss: 0.0322 - accuracy: 0.9886 - val_loss: 0.5723 - val_accuracy: 0.9008\n",
            "Epoch 37/100\n",
            "1875/1875 [==============================] - 31s 17ms/step - loss: 0.0298 - accuracy: 0.9899 - val_loss: 0.6014 - val_accuracy: 0.9010\n",
            "Epoch 38/100\n",
            "1875/1875 [==============================] - 32s 17ms/step - loss: 0.0314 - accuracy: 0.9889 - val_loss: 0.6312 - val_accuracy: 0.9027\n",
            "Epoch 39/100\n",
            "1875/1875 [==============================] - 33s 18ms/step - loss: 0.0313 - accuracy: 0.9887 - val_loss: 0.6253 - val_accuracy: 0.8977\n",
            "Epoch 40/100\n",
            "1875/1875 [==============================] - 32s 17ms/step - loss: 0.0274 - accuracy: 0.9901 - val_loss: 0.6433 - val_accuracy: 0.8988\n",
            "Epoch 41/100\n",
            "1875/1875 [==============================] - 33s 17ms/step - loss: 0.0304 - accuracy: 0.9893 - val_loss: 0.6491 - val_accuracy: 0.8996\n",
            "Epoch 42/100\n",
            "1875/1875 [==============================] - 32s 17ms/step - loss: 0.0216 - accuracy: 0.9923 - val_loss: 0.7092 - val_accuracy: 0.8971\n",
            "Epoch 43/100\n",
            "1875/1875 [==============================] - 32s 17ms/step - loss: 0.0211 - accuracy: 0.9923 - val_loss: 0.6805 - val_accuracy: 0.8986\n",
            "Epoch 44/100\n",
            "1875/1875 [==============================] - 32s 17ms/step - loss: 0.0299 - accuracy: 0.9891 - val_loss: 0.6486 - val_accuracy: 0.8962\n",
            "Epoch 45/100\n",
            "1875/1875 [==============================] - 32s 17ms/step - loss: 0.0262 - accuracy: 0.9907 - val_loss: 0.6988 - val_accuracy: 0.9019\n",
            "Epoch 46/100\n",
            "1875/1875 [==============================] - 32s 17ms/step - loss: 0.0244 - accuracy: 0.9915 - val_loss: 0.7248 - val_accuracy: 0.9016\n",
            "Epoch 47/100\n",
            "1875/1875 [==============================] - 32s 17ms/step - loss: 0.0222 - accuracy: 0.9918 - val_loss: 0.7235 - val_accuracy: 0.8974\n",
            "Epoch 48/100\n",
            "1875/1875 [==============================] - 32s 17ms/step - loss: 0.0284 - accuracy: 0.9898 - val_loss: 0.7452 - val_accuracy: 0.8940\n",
            "Epoch 49/100\n",
            "1875/1875 [==============================] - 32s 17ms/step - loss: 0.0212 - accuracy: 0.9925 - val_loss: 0.7489 - val_accuracy: 0.8998\n",
            "Epoch 50/100\n",
            "1875/1875 [==============================] - 32s 17ms/step - loss: 0.0224 - accuracy: 0.9916 - val_loss: 0.7616 - val_accuracy: 0.8983\n",
            "Epoch 51/100\n",
            "1875/1875 [==============================] - 32s 17ms/step - loss: 0.0222 - accuracy: 0.9923 - val_loss: 0.7369 - val_accuracy: 0.9001\n",
            "Epoch 52/100\n",
            "1875/1875 [==============================] - 32s 17ms/step - loss: 0.0130 - accuracy: 0.9955 - val_loss: 0.7528 - val_accuracy: 0.9017\n",
            "Epoch 53/100\n",
            "1875/1875 [==============================] - 31s 17ms/step - loss: 0.0134 - accuracy: 0.9954 - val_loss: 0.7819 - val_accuracy: 0.8985\n",
            "Epoch 54/100\n",
            "1875/1875 [==============================] - 31s 17ms/step - loss: 0.0195 - accuracy: 0.9930 - val_loss: 0.7741 - val_accuracy: 0.8965\n",
            "Epoch 55/100\n",
            "1875/1875 [==============================] - 32s 17ms/step - loss: 0.0197 - accuracy: 0.9927 - val_loss: 0.8066 - val_accuracy: 0.8959\n",
            "Epoch 56/100\n",
            "1875/1875 [==============================] - 32s 17ms/step - loss: 0.0259 - accuracy: 0.9912 - val_loss: 0.7847 - val_accuracy: 0.8993\n"
          ]
        }
      ]
    },
    {
      "cell_type": "code",
      "source": [
        "model.save('CNN_fashionmnist.h5')"
      ],
      "metadata": {
        "id": "fmfFXEEQNYpA"
      },
      "execution_count": 11,
      "outputs": []
    },
    {
      "cell_type": "code",
      "source": [
        "score = model.evaluate(x_test,y_test,verbose=0)\n",
        "print('Sai số kiểm tra là: ',score[0])\n",
        "print('Độ chính xác kiểm tra là: ',score[1])\n",
        "plt.plot(history.history['accuracy'])\n",
        "plt.plot(history.history['val_accuracy'])\n",
        "plt.ylabel('accuracy')\n",
        "plt.xlabel('epochs')\n",
        "plt.legend(['train','Validation'])\n",
        "plt.show()"
      ],
      "metadata": {
        "colab": {
          "base_uri": "https://localhost:8080/",
          "height": 315
        },
        "id": "eFOQPqYAUgKs",
        "outputId": "630f94f2-031f-43de-9bbe-f136b3cc44e2"
      },
      "execution_count": 12,
      "outputs": [
        {
          "output_type": "stream",
          "name": "stdout",
          "text": [
            "Sai số kiểm tra là:  0.7847014665603638\n",
            "Độ chính xác kiểm tra là:  0.8992999792098999\n"
          ]
        },
        {
          "output_type": "display_data",
          "data": {
            "text/plain": [
              "<Figure size 432x288 with 1 Axes>"
            ],
            "image/png": "[encoded data removed]"
          },
          "metadata": {
            "needs_background": "light"
          }
        }
      ]
    }
  ]
}